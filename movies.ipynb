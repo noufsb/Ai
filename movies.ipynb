{
 "cells": [
  {
   "cell_type": "code",
   "execution_count": 15,
   "id": "34bc4101",
   "metadata": {},
   "outputs": [],
   "source": [
    "import pandas as pd"
   ]
  },
  {
   "cell_type": "code",
   "execution_count": 2,
   "id": "ef9d1155",
   "metadata": {},
   "outputs": [],
   "source": [
    "df = pd.read_csv(\"Top 1000 IMDB movies (1).csv\")"
   ]
  },
  {
   "cell_type": "code",
   "execution_count": 3,
   "id": "450c51a5",
   "metadata": {},
   "outputs": [
    {
     "name": "stdout",
     "output_type": "stream",
     "text": [
      "<class 'pandas.core.frame.DataFrame'>\n",
      "RangeIndex: 1000 entries, 0 to 999\n",
      "Data columns (total 9 columns):\n",
      " #   Column              Non-Null Count  Dtype  \n",
      "---  ------              --------------  -----  \n",
      " 0   Unnamed: 0          1000 non-null   int64  \n",
      " 1   Movie Name          1000 non-null   object \n",
      " 2   Year of Release     1000 non-null   object \n",
      " 3   Watch Time          1000 non-null   object \n",
      " 4   Movie Rating        1000 non-null   float64\n",
      " 5   Meatscore of movie  1000 non-null   object \n",
      " 6   Votes               1000 non-null   object \n",
      " 7   Gross               1000 non-null   object \n",
      " 8   Description         1000 non-null   object \n",
      "dtypes: float64(1), int64(1), object(7)\n",
      "memory usage: 70.4+ KB\n"
     ]
    }
   ],
   "source": [
    "df.info()"
   ]
  },
  {
   "cell_type": "code",
   "execution_count": 4,
   "id": "c7c6de18",
   "metadata": {},
   "outputs": [],
   "source": [
    "# Dropping unneeded columns and making a couple of the column names more clear.\n",
    "\n",
    "df.drop(columns=['Unnamed: 0', 'Votes'],inplace=True, axis=1)\n",
    "df = df.rename(columns={'Meatscore of movie': 'Metascore', 'Movie Rating': 'IMDB Rating'})"
   ]
  },
  {
   "cell_type": "code",
   "execution_count": 17,
   "id": "f03cb5a4",
   "metadata": {},
   "outputs": [],
   "source": [
    "# Converting 'Movie Name' ,' Description ', and 'Gross' column to string\n",
    "\n",
    "df['Movie Name'] = df['Movie Name'].astype(\"string\")\n",
    "df['Gross'] = df['Gross'].astype(\"string\")\n",
    "df['Description'] = df['Description'].astype(\"string\")"
   ]
  },
  {
   "cell_type": "code",
   "execution_count": 8,
   "id": "e9bf2837",
   "metadata": {},
   "outputs": [
    {
     "name": "stderr",
     "output_type": "stream",
     "text": [
      "/var/folders/m9/xdscf9kn1mb_f7gnk1x3p62r0000gn/T/ipykernel_15189/1656452917.py:34: FutureWarning: The default value of regex will change from True to False in a future version. In addition, single character regular expressions will *not* be treated as literal strings when regex=True.\n",
      "  df['Gross'] = df['Gross'].str.replace('$', ' ')\n"
     ]
    }
   ],
   "source": [
    "# cleaning the values in the 'Gross' column \n",
    "df['Gross'] = df['Gross'].replace('#101' ,'0')\n",
    "df['Gross'] = df['Gross'].replace('#109' ,'0')\n",
    "df['Gross'] = df['Gross'].replace('#119' ,'0')\n",
    "df['Gross'] = df['Gross'].replace('#132' ,'0')\n",
    "df['Gross'] = df['Gross'].replace('#135' ,'0')\n",
    "df['Gross'] = df['Gross'].replace('#145' ,'0')\n",
    "df['Gross'] = df['Gross'].replace('#153' ,'0')\n",
    "df['Gross'] = df['Gross'].replace('#155' ,'0')\n",
    "df['Gross'] = df['Gross'].replace('#184' ,'0')\n",
    "df['Gross'] = df['Gross'].replace('#192' ,'0')\n",
    "df['Gross'] = df['Gross'].replace('#193' ,'0')\n",
    "df['Gross'] = df['Gross'].replace('#196' ,'0')\n",
    "df['Gross'] = df['Gross'].replace('#198' ,'0')\n",
    "df['Gross'] = df['Gross'].replace('#204' ,'0')\n",
    "df['Gross'] = df['Gross'].replace('#208' ,'0')\n",
    "df['Gross'] = df['Gross'].replace('#21' ,'0')\n",
    "df['Gross'] = df['Gross'].replace('#219' ,'0')\n",
    "df['Gross'] = df['Gross'].replace('#229' ,'0')\n",
    "df['Gross'] = df['Gross'].replace('#233' ,'0')\n",
    "df['Gross'] = df['Gross'].replace('#238' ,'0')\n",
    "df['Gross'] = df['Gross'].replace('#239' ,'0')\n",
    "df['Gross'] = df['Gross'].replace('#240' ,'0')\n",
    "df['Gross'] = df['Gross'].replace('#244' ,'0')\n",
    "df['Gross'] = df['Gross'].replace('#248' ,'0')\n",
    "df['Gross'] = df['Gross'].replace('#45' ,'0')\n",
    "df['Gross'] = df['Gross'].replace('#47' ,'0')\n",
    "df['Gross'] = df['Gross'].replace('#48' ,'0')\n",
    "df['Gross'] = df['Gross'].replace('#60' ,'0')\n",
    "df['Gross'] = df['Gross'].replace('#61' ,'0')\n",
    "df['Gross'] = df['Gross'].replace('#61' ,'0')\n",
    "df['Gross'] = df['Gross'].replace('#92' , '0')\n",
    "df['Gross'] = df['Gross'].replace('%^%^%^', '0')\n",
    "df['Gross'] = df['Gross'].str.replace('$', ' ')\n",
    "df['Gross'] = df['Gross'].str.replace('M', '')"
   ]
  },
  {
   "cell_type": "code",
   "execution_count": 19,
   "id": "e1bcf1e3",
   "metadata": {},
   "outputs": [],
   "source": [
    "# Changing 'Gross' column type to float\n",
    "df['Gross'] = df['Gross'].astype(\"float\")"
   ]
  },
  {
   "cell_type": "code",
   "execution_count": 10,
   "id": "38181b81",
   "metadata": {},
   "outputs": [
    {
     "name": "stderr",
     "output_type": "stream",
     "text": [
      "/var/folders/m9/xdscf9kn1mb_f7gnk1x3p62r0000gn/T/ipykernel_15189/4177273950.py:5: FutureWarning: The default value of regex will change from True to False in a future version. In addition, single character regular expressions will *not* be treated as literal strings when regex=True.\n",
      "  df['Year of Release'] = df['Year of Release'].str.replace('(', '')\n",
      "/var/folders/m9/xdscf9kn1mb_f7gnk1x3p62r0000gn/T/ipykernel_15189/4177273950.py:6: FutureWarning: The default value of regex will change from True to False in a future version. In addition, single character regular expressions will *not* be treated as literal strings when regex=True.\n",
      "  df['Year of Release'] = df['Year of Release'].str.replace(')', '')\n"
     ]
    }
   ],
   "source": [
    "# Cleaning and converting the 'Watch Time' and 'Year of Release' columns\n",
    "\n",
    "df['Watch Time'] = df['Watch Time'].str.replace(' min', '')\n",
    "df['Watch Time'] = df['Watch Time'].astype(\"int\")\n",
    "df['Year of Release'] = df['Year of Release'].str.replace('(', '')\n",
    "df['Year of Release'] = df['Year of Release'].str.replace(')', '')\n",
    "df['Year of Release'] = df['Year of Release'].str.replace('I ', '')\n",
    "df['Year of Release'] = df['Year of Release'].str.replace('II', '')\n",
    "df['Year of Release'] = df['Year of Release'].str.replace('I', '')\n",
    "df['Year of Release'] = df['Year of Release'].astype(\"int\")"
   ]
  },
  {
   "cell_type": "code",
   "execution_count": 11,
   "id": "92645e3e",
   "metadata": {},
   "outputs": [
    {
     "name": "stdout",
     "output_type": "stream",
     "text": [
      "<class 'pandas.core.frame.DataFrame'>\n",
      "RangeIndex: 1000 entries, 0 to 999\n",
      "Data columns (total 7 columns):\n",
      " #   Column           Non-Null Count  Dtype  \n",
      "---  ------           --------------  -----  \n",
      " 0   Movie Name       1000 non-null   string \n",
      " 1   Year of Release  1000 non-null   int64  \n",
      " 2   Watch Time       1000 non-null   int64  \n",
      " 3   IMDB Rating      1000 non-null   float64\n",
      " 4   Metascore        1000 non-null   object \n",
      " 5   Gross            1000 non-null   float64\n",
      " 6   Description      1000 non-null   object \n",
      "dtypes: float64(2), int64(2), object(2), string(1)\n",
      "memory usage: 54.8+ KB\n"
     ]
    }
   ],
   "source": [
    "df.info()"
   ]
  },
  {
   "cell_type": "code",
   "execution_count": 12,
   "id": "4da2e2f9",
   "metadata": {},
   "outputs": [],
   "source": [
    "# Cleaning and converting the 'Metascore' column while also putting its scores on the same scale as the IMDB ratings.\n",
    "\n",
    "df['Metascore'] = df['Metascore'].replace('****', nan)\n",
    "df['Metascore'] = df['Metascore'].astype('float')\n",
    "df['Metascore'] = df['Metascore'].div(10)"
   ]
  },
  {
   "cell_type": "code",
   "execution_count": 13,
   "id": "dae3ba43",
   "metadata": {},
   "outputs": [
    {
     "name": "stdout",
     "output_type": "stream",
     "text": [
      "                 Movie Name  Year of Release  Watch Time  IMDB Rating  \\\n",
      "132            Citizen Kane             1941         119          8.3   \n",
      "275       Three Colors: Red             1994          99          8.1   \n",
      "122      Lawrence of Arabia             1962         218          8.3   \n",
      "126                 Vertigo             1958         128          8.3   \n",
      "437             The Leopard             1963         186          8.0   \n",
      "579               Notorious             1946         102          7.9   \n",
      "448  Sweet Smell of Success             1957          96          8.0   \n",
      "57               Casablanca             1942         102          8.5   \n",
      "56              Rear Window             1954         112          8.5   \n",
      "1             The Godfather             1972         175          9.2   \n",
      "\n",
      "     Metascore   Gross                                        Description  \n",
      "132       10.0    1.59  Following the death of publishing tycoon Charl...  \n",
      "275       10.0    4.04  A model discovers a retired judge is keen on i...  \n",
      "122       10.0   44.82  The story of T.E. Lawrence, the English office...  \n",
      "126       10.0    3.20  A former San Francisco police detective juggle...  \n",
      "437       10.0    0.00  The Prince of Salina, a noble aristocrat of im...  \n",
      "579       10.0   10.46  The daughter of a convicted Nazi spy is asked ...  \n",
      "448       10.0    0.00  Powerful but unethical Broadway columnist J.J....  \n",
      "57        10.0    1.02  A cynical expatriate American cafe owner strug...  \n",
      "56        10.0   36.76  A wheelchair-bound photographer spies on his n...  \n",
      "1         10.0  134.97  The aging patriarch of an organized crime dyna...  \n"
     ]
    }
   ],
   "source": [
    "print(df.sort_values('Metascore', ascending=False).head(10))"
   ]
  },
  {
   "cell_type": "code",
   "execution_count": 20,
   "id": "c2e22b9e",
   "metadata": {},
   "outputs": [
    {
     "name": "stdout",
     "output_type": "stream",
     "text": [
      "<class 'pandas.core.frame.DataFrame'>\n",
      "RangeIndex: 1000 entries, 0 to 999\n",
      "Data columns (total 7 columns):\n",
      " #   Column           Non-Null Count  Dtype  \n",
      "---  ------           --------------  -----  \n",
      " 0   Movie Name       1000 non-null   string \n",
      " 1   Year of Release  1000 non-null   int64  \n",
      " 2   Watch Time       1000 non-null   int64  \n",
      " 3   IMDB Rating      1000 non-null   float64\n",
      " 4   Metascore        836 non-null    float64\n",
      " 5   Gross            1000 non-null   float64\n",
      " 6   Description      1000 non-null   string \n",
      "dtypes: float64(3), int64(2), string(2)\n",
      "memory usage: 54.8 KB\n"
     ]
    }
   ],
   "source": [
    "df.info()"
   ]
  },
  {
   "cell_type": "code",
   "execution_count": null,
   "id": "71c0684e",
   "metadata": {},
   "outputs": [],
   "source": []
  }
 ],
 "metadata": {
  "kernelspec": {
   "display_name": "Python 3 (ipykernel)",
   "language": "python",
   "name": "python3"
  },
  "language_info": {
   "codemirror_mode": {
    "name": "ipython",
    "version": 3
   },
   "file_extension": ".py",
   "mimetype": "text/x-python",
   "name": "python",
   "nbconvert_exporter": "python",
   "pygments_lexer": "ipython3",
   "version": "3.9.12"
  }
 },
 "nbformat": 4,
 "nbformat_minor": 5
}
